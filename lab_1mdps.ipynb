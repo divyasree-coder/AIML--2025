{
  "nbformat": 4,
  "nbformat_minor": 0,
  "metadata": {
    "colab": {
      "provenance": [],
      "authorship_tag": "ABX9TyNCBqOR68FOIWQmrZQubd0H",
      "include_colab_link": true
    },
    "kernelspec": {
      "name": "python3",
      "display_name": "Python 3"
    },
    "language_info": {
      "name": "python"
    }
  },
  "cells": [
    {
      "cell_type": "markdown",
      "metadata": {
        "id": "view-in-github",
        "colab_type": "text"
      },
      "source": [
        "<a href=\"https://colab.research.google.com/github/divyasree-coder/AIML--2025/blob/main/lab_1mdps.ipynb\" target=\"_parent\"><img src=\"https://colab.research.google.com/assets/colab-badge.svg\" alt=\"Open In Colab\"/></a>"
      ]
    },
    {
      "cell_type": "code",
      "source": [
        "# Value Iteration and Policy Iteration for a simple MDP\n",
        "\n",
        "import numpy as np"
      ],
      "metadata": {
        "id": "04FNwtbRuY1g"
      },
      "execution_count": 1,
      "outputs": []
    },
    {
      "cell_type": "code",
      "source": [
        "# Define MDP parameters\n",
        "states = [0, 1, 2]\n",
        "actions = [0, 1]  # 0: left, 1: right\n",
        "P = {\n",
        "    0: {0: [(1.0, 0, 0)], 1: [(1.0, 1, 0)]},\n",
        "    1: {0: [(1.0, 0, 0)], 1: [(1.0, 2, 1)]},\n",
        "    2: {0: [(1.0, 1, 0)], 1: [(1.0, 2, 0)]}\n",
        "}\n",
        "gamma = 0.9\n",
        "\n",
        "def value_iteration(P, states, actions, gamma, theta=1e-5):\n",
        "    V = np.zeros(len(states))\n",
        "    while True:\n",
        "        delta = 0\n",
        "        for s in states:\n",
        "            v = V[s]\n",
        "            V[s] = max(\n",
        "                sum(prob * (reward + gamma * V[next_state])\n",
        "                    for prob, next_state, reward in P[s][a])\n",
        "                for a in actions\n",
        "            )\n",
        "            delta = max(delta, abs(v - V[s]))\n",
        "        if delta < theta:\n",
        "            break\n",
        "    # Derive policy\n",
        "    policy = np.zeros(len(states), dtype=int)\n",
        "    for s in states:\n",
        "        q = [sum(prob * (reward + gamma * V[next_state])\n",
        "                 for prob, next_state, reward in P[s][a])\n",
        "             for a in actions]\n",
        "        policy[s] = np.argmax(q)\n",
        "    return V, policy\n",
        "\n",
        "def policy_iteration(P, states, actions, gamma):\n",
        "    policy = np.zeros(len(states), dtype=int)\n",
        "    V = np.zeros(len(states))\n",
        "    while True:\n",
        "        # Policy Evaluation\n",
        "        while True:\n",
        "            delta = 0\n",
        "            for s in states:\n",
        "                v = V[s]\n",
        "                a = policy[s]\n",
        "                V[s] = sum(prob * (reward + gamma * V[next_state])\n",
        "                           for prob, next_state, reward in P[s][a])\n",
        "                delta = max(delta, abs(v - V[s]))\n",
        "            if delta < 1e-5:\n",
        "                break\n",
        "        # Policy Improvement\n",
        "        policy_stable = True\n",
        "        for s in states:\n",
        "            old_action = policy[s]\n",
        "            q = [sum(prob * (reward + gamma * V[next_state])\n",
        "                     for prob, next_state, reward in P[s][a])\n",
        "                 for a in actions]\n",
        "            policy[s] = np.argmax(q)\n",
        "            if old_action != policy[s]:\n",
        "                policy_stable = False\n",
        "        if policy_stable:\n",
        "          break\n",
        "    return V, policy\n"
      ],
      "metadata": {
        "id": "f-gzjFNyyYm3"
      },
      "execution_count": 12,
      "outputs": []
    },
    {
      "cell_type": "code",
      "source": [
        "# Run Value Iteration\n",
        "V_vi, policy_vi = value_iteration(P, states, actions, gamma)\n",
        "print(\"Value Iteration - Values:\", V_vi)\n",
        "print(\"Value Iteration - Policy:\", policy_vi)"
      ],
      "metadata": {
        "colab": {
          "base_uri": "https://localhost:8080/"
        },
        "id": "2prfc_MLyklx",
        "outputId": "e5b274ee-b9eb-4480-cc34-ae156fee9978"
      },
      "execution_count": 13,
      "outputs": [
        {
          "output_type": "stream",
          "name": "stdout",
          "text": [
            "Value Iteration - Values: [4.73680657 5.26312591 4.73681332]\n",
            "Value Iteration - Policy: [1 1 0]\n"
          ]
        }
      ]
    },
    {
      "cell_type": "code",
      "source": [
        " # Run Policy Iteration\n",
        "V_pi, policy_pi = policy_iteration(P, states, actions, gamma)\n",
        "print(\"Policy Iteration - Values:\", V_pi)\n",
        "print(\"Policy Iteration - Policy:\", policy_pi)"
      ],
      "metadata": {
        "colab": {
          "base_uri": "https://localhost:8080/"
        },
        "id": "tn5vuOswyqit",
        "outputId": "e5b2a239-67a1-4ca2-c0ff-4ca0ab24ad0d"
      },
      "execution_count": 15,
      "outputs": [
        {
          "output_type": "stream",
          "name": "stdout",
          "text": [
            "Policy Iteration - Values: [4.73681332 5.26313199 4.73681879]\n",
            "Policy Iteration - Policy: [1 1 0]\n"
          ]
        }
      ]
    }
  ]
}