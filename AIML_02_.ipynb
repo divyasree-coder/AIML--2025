{
  "nbformat": 4,
  "nbformat_minor": 0,
  "metadata": {
    "colab": {
      "provenance": [],
      "authorship_tag": "ABX9TyN9+YNjM7Qi44P2a8czzIox",
      "include_colab_link": true
    },
    "kernelspec": {
      "name": "python3",
      "display_name": "Python 3"
    },
    "language_info": {
      "name": "python"
    }
  },
  "cells": [
    {
      "cell_type": "markdown",
      "metadata": {
        "id": "view-in-github",
        "colab_type": "text"
      },
      "source": [
        "<a href=\"https://colab.research.google.com/github/divyasree-coder/AIML--2025/blob/main/AIML_02_.ipynb\" target=\"_parent\"><img src=\"https://colab.research.google.com/assets/colab-badge.svg\" alt=\"Open In Colab\"/></a>"
      ]
    },
    {
      "cell_type": "code",
      "execution_count": null,
      "metadata": {
        "id": "5YOEjat-TsYT"
      },
      "outputs": [],
      "source": [
        "from queue import Queue\n",
        "graph ={0: [1,2,3,],\n",
        "        1:[0,2],\n",
        "        2:[1,3,5],\n",
        "        3:[0,2,4],\n",
        "        4:[3,5,7],\n",
        "        5:[2,4,6,7],\n",
        "        6:[5,7],\n",
        "        7:[]}\n",
        "print(\" the adjaceny list representing the graph is :\")\n",
        "print(graph)\n",
        "\n",
        "\n",
        " the adjaceny list representing the graph is :\n",
        "{0: [1, 2, 3], 1: [0, 2], 2: [1, 3, 5], 3: [0, 2, 4], 4: [3, 5, 7], 5: [2, 4, 6, 7], 6: [5, 7], 7: []}\n",
        "\n",
        "def bfs(graph,source):\n",
        "    Q=Queue()\n",
        "    visited_vertices=set()\n",
        "    Q. put(source)\n",
        "    visited_vertices.update({source})\n",
        "    while not Q.empty():\n",
        "        vertex=Q.get()\n",
        "        print(vertex,end=\"-->\")\n",
        "        for u in graph[vertex]:\n",
        "          if u not in visited_vertices:\n",
        "            Q.put(u)\n",
        "            visited_vertices.update({u})\n",
        "print(\"BPS traversal of graph with source 1 1st\")\n",
        "bfs(graph, 1)\n",
        "\n",
        "\n",
        "BPS traversal of graph with source 1 1st\n",
        "1-->0-->2-->3-->5-->4-->6-->7-->"
      ]
    },
    {
      "cell_type": "markdown",
      "source": [
        "LAB 02\n"
      ],
      "metadata": {
        "id": "a9AjpMMFUExY"
      }
    },
    {
      "cell_type": "markdown",
      "source": [],
      "metadata": {
        "id": "hTJnyr_oUHlh"
      }
    },
    {
      "cell_type": "code",
      "source": [
        "graph1=(\n",
        "\n",
        "'A': ['B', 'C', 'G,],\n",
        "'B': ['A'. 'C': 'A', 'D', 'F'],\n",
        "'D': ['A', 'C', 'E', 'H'],\n",
        "'E':['D','H','F'],\n",
        "'F': ['C', 'E',],\n",
        "'G': ['A','D', 'H'],\n",
        "'H': ['D','E','G']\n",
        "\n",
        "def dfs(graph, node, visited):\n",
        "  if node not in visited:\n",
        "      visited.append(node)\n",
        "      for k in graph[node]:\n",
        "       dfs  (graph,k,visited)\n",
        "  return visited\n",
        "\n",
        "      visited = dfs(graph1,'B',[])\n",
        "      print(visited)"
      ],
      "metadata": {
        "id": "gQQc1s__UH9o"
      },
      "execution_count": null,
      "outputs": []
    }
  ]
}